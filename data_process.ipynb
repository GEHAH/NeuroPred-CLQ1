{
 "cells": [
  {
   "cell_type": "code",
   "execution_count": 2,
   "metadata": {
    "ExecuteTime": {
     "end_time": "2022-05-05T07:04:26.699704Z",
     "start_time": "2022-05-05T07:04:26.693703Z"
    }
   },
   "outputs": [],
   "source": [
    "import pandas as pd\n",
    "\n",
    "from tools import read_fasta,supple_X\n",
    "import gensim\n",
    "import numpy as np\n",
    "from pathlib import Path\n"
   ]
  },
  {
   "cell_type": "code",
   "execution_count": 5,
   "metadata": {
    "ExecuteTime": {
     "end_time": "2022-05-05T07:05:42.088636Z",
     "start_time": "2022-05-05T07:05:42.071522Z"
    }
   },
   "outputs": [],
   "source": [
    "def Gen_Words(sequences,kmer_len,s):\n",
    "    out=[]\n",
    "    for i in sequences:\n",
    "        kmer_list=[]\n",
    "        for j in range(0,(len(i)-kmer_len)+1,s):\n",
    "            kmer_list.append(i[j:j+kmer_len])\n",
    "        out.append(kmer_list)\n",
    "    return out"
   ]
  },
  {
   "cell_type": "code",
   "execution_count": 3,
   "metadata": {
    "ExecuteTime": {
     "end_time": "2022-05-05T07:04:27.608980Z",
     "start_time": "2022-05-05T07:04:27.281573Z"
    },
    "pycharm": {
     "name": "#%%\n"
    }
   },
   "outputs": [],
   "source": [
    "model4 = gensim.models.Word2Vec.load('CLQ_model/NPs4')"
   ]
  },
  {
   "cell_type": "code",
   "execution_count": 6,
   "metadata": {
    "ExecuteTime": {
     "end_time": "2022-05-05T07:05:47.701736Z",
     "start_time": "2022-05-05T07:05:46.947195Z"
    }
   },
   "outputs": [
    {
     "name": "stdout",
     "output_type": "stream",
     "text": [
      "(3880, 97, 150)\n"
     ]
    }
   ],
   "source": [
    "#读取训练集测试集进行训练词向量\n",
    "x_train1 = pd.read_csv('data/Process_data/train/X_train.csv')\n",
    "x_train2 = x_train1['Sequence'].to_numpy()\n",
    "x_train3 = Gen_Words(x_train2,4,1)\n",
    "#将训练集通过word2vec--model4进行处理\n",
    "X_train = []\n",
    "for i in range(0,len(x_train3)):\n",
    "    s = []\n",
    "    for word in x_train3[i]:\n",
    "        s.append(model4.wv[word])\n",
    "    X_train.append(s)\n",
    "print(np.array(X_train).shape)"
   ]
  },
  {
   "cell_type": "code",
   "execution_count": 7,
   "metadata": {
    "ExecuteTime": {
     "end_time": "2022-05-05T07:06:23.950782Z",
     "start_time": "2022-05-05T07:06:23.743180Z"
    }
   },
   "outputs": [
    {
     "name": "stdout",
     "output_type": "stream",
     "text": [
      "(970, 97, 150)\n"
     ]
    }
   ],
   "source": [
    "#独立数据\n",
    "x_test1 = pd.read_csv('data/Process_data/test/X_test.csv')\n",
    "x_test2 = x_test1['Sequence'].to_numpy()\n",
    "x_test3 = Gen_Words(x_test2,4,1)\n",
    "X_test = []\n",
    "for i in range(0,len(x_test3)):\n",
    "    s = []\n",
    "    for word in x_test3[i]:\n",
    "        s.append(model4.wv[word])\n",
    "    X_test.append(s)\n",
    "print(np.array(X_test).shape)"
   ]
  },
  {
   "cell_type": "code",
   "execution_count": 8,
   "metadata": {
    "ExecuteTime": {
     "end_time": "2022-05-05T07:06:32.022841Z",
     "start_time": "2022-05-05T07:06:31.361281Z"
    }
   },
   "outputs": [],
   "source": [
    "np.savez('data/Process_data/X_all4.npz', x_train=np.array(X_train),x_test = np.array(X_test))"
   ]
  },
  {
   "cell_type": "code",
   "execution_count": null,
   "metadata": {},
   "outputs": [],
   "source": []
  }
 ],
 "metadata": {
  "kernelspec": {
   "display_name": "PyCharm (peptide_Deep)",
   "language": "python",
   "name": "pycharm-9e68c5eb"
  },
  "language_info": {
   "codemirror_mode": {
    "name": "ipython",
    "version": 3
   },
   "file_extension": ".py",
   "mimetype": "text/x-python",
   "name": "python",
   "nbconvert_exporter": "python",
   "pygments_lexer": "ipython3",
   "version": "3.9.7"
  },
  "toc": {
   "base_numbering": 1,
   "nav_menu": {},
   "number_sections": true,
   "sideBar": true,
   "skip_h1_title": false,
   "title_cell": "Table of Contents",
   "title_sidebar": "Contents",
   "toc_cell": false,
   "toc_position": {},
   "toc_section_display": true,
   "toc_window_display": false
  },
  "varInspector": {
   "cols": {
    "lenName": 16,
    "lenType": 16,
    "lenVar": 40
   },
   "kernels_config": {
    "python": {
     "delete_cmd_postfix": "",
     "delete_cmd_prefix": "del ",
     "library": "var_list.py",
     "varRefreshCmd": "print(var_dic_list())"
    },
    "r": {
     "delete_cmd_postfix": ") ",
     "delete_cmd_prefix": "rm(",
     "library": "var_list.r",
     "varRefreshCmd": "cat(var_dic_list()) "
    }
   },
   "types_to_exclude": [
    "module",
    "function",
    "builtin_function_or_method",
    "instance",
    "_Feature"
   ],
   "window_display": false
  }
 },
 "nbformat": 4,
 "nbformat_minor": 1
}